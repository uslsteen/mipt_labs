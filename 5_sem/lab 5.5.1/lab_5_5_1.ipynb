{
 "cells": [
  {
   "cell_type": "code",
   "execution_count": null,
   "metadata": {},
   "outputs": [],
   "source": [
    "import pandas as pd\n",
    "import matplotlib.pyplot as plt"
   ]
  },
  {
   "cell_type": "code",
   "execution_count": null,
   "metadata": {},
   "outputs": [],
   "source": [
    "list_name = \"Лист4\"\n",
    "lab_name = \"lab_5_5_1.xlsx\"\n",
    " \n",
    "data = pd.read_excel(lab_name, sheet_name=list_name)\n",
    "\n",
    "\n"
   ]
  },
  {
   "cell_type": "code",
   "execution_count": null,
   "metadata": {},
   "outputs": [],
   "source": [
    "\n",
    "\n",
    "#plt.plot(t, a, 'r') # plotting t, a separately \n",
    "#plt.plot(t, b, 'b') # plotting t, b separately \n",
    "#plt.plot(t, c, 'g') # plotting t, c separately \n",
    "plt.xlabel(\"d, см\")\n",
    "plt.ylabel(\"ln(N0/N)\")\n",
    "plt.legend()\n",
    "plt.show()"
   ]
  }
 ],
 "metadata": {
  "language_info": {
   "name": "python"
  },
  "orig_nbformat": 4
 },
 "nbformat": 4,
 "nbformat_minor": 2
}
